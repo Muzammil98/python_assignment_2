{
 "cells": [
  {
   "cell_type": "code",
   "execution_count": 1,
   "metadata": {},
   "outputs": [
    {
     "name": "stdout",
     "output_type": "stream",
     "text": [
      "Math:80\n",
      "Physics:90\n",
      "Calculus:56\n",
      "Oop:55\n",
      "Cs:85\n",
      "Total Marks:  366\n",
      "Percentage:  73.2 %\n",
      "C Grade\n"
     ]
    }
   ],
   "source": [
    "sub1 = int(input(\"Math:\"))\n",
    "sub2 = int(input(\"Physics:\"))\n",
    "sub3 = int(input(\"Calculus:\"))\n",
    "sub4 = int(input(\"Oop:\"))\n",
    "sub5 = int(input(\"Cs:\"))\n",
    "\n",
    "total = (sub1+sub2+sub3+sub4+sub5)\n",
    "\n",
    "print(\"Total Marks: \",total)\n",
    "maxMarks = 500\n",
    "percentage = (total/maxMarks) * 100\n",
    "\n",
    "if percentage >= 50:\n",
    " print(\"Percentage: \",percentage,\"%\")\n",
    " print(\"C Grade\") \n",
    "elif percentage >= 60:\n",
    " print(\"Percentage: \",percentage,\"%\")\n",
    " print(\"B Grade\")\n",
    "elif percentage >= 70: \n",
    " print(\"Percentage: \",percentage,\"%\")\n",
    " print(\"A Grade\")\n",
    "elif percentage >= 50: \n",
    " print(\"Percentage: \",percentage,\"%\")\n",
    " print(\"A+ Grade\")\n",
    "else:\n",
    " print(\"Percentage: \",percentage,\"%\")\n",
    " print(\"F Grade\")\n",
    "\n",
    " \n",
    "\n",
    "\n"
   ]
  },
  {
   "cell_type": "code",
   "execution_count": null,
   "metadata": {},
   "outputs": [],
   "source": []
  }
 ],
 "metadata": {
  "kernelspec": {
   "display_name": "Python 3",
   "language": "python",
   "name": "python3"
  },
  "language_info": {
   "codemirror_mode": {
    "name": "ipython",
    "version": 3
   },
   "file_extension": ".py",
   "mimetype": "text/x-python",
   "name": "python",
   "nbconvert_exporter": "python",
   "pygments_lexer": "ipython3",
   "version": "3.7.3"
  }
 },
 "nbformat": 4,
 "nbformat_minor": 2
}
